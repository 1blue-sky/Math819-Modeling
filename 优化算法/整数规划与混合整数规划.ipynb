{
 "cells": [
  {
   "cell_type": "markdown",
   "source": [
    "整数规划与混合整数规划求解方法的不同\n",
    "整数规划求解:\n",
    "    求解整数规划时，所有变量都必须取整数值。\n",
    "    通常使用 分支定界法（Branch-and-Bound）或 割平面法（Cutting Planes）等方法求解。\n",
    "\n",
    "混合整数规划求解:\n",
    "    混合整数规划包含整数和连续变量，求解方法通常会结合 分支定界法（Branch-and-Bound）和 线性规划的单纯形法（Simplex Method）或 内点法（Interior Point Method）等方法。\n",
    "\n",
    "pulp 库：\n",
    "pulp 是一个求解线性规划、整数规划和混合整数规划问题的库，它基于 CBC（Coin-or branch and cut）求解器，也支持 GLPK 和 CPLEX 等求解器。\n",
    "\n",
    "使用 pulp 库：适用于线性规划、整数规划和混合整数规划。\n",
    "\n",
    "使用 cvxpy 库：适用于更多复杂的优化问题，并支持混合整数问题的建模和求解。"
   ],
   "metadata": {
    "collapsed": false
   }
  },
  {
   "cell_type": "markdown",
   "source": [
    "# 1. 整数规划 (Integer Programming)\n",
    "## 示例 1.1：整数规划（使用 scipy.optimize.linprog）\n",
    "目标函数： 最大化：z=2x+3y\n",
    "约束：x+y≤4\n",
    "    2x+y≤5\n",
    "    x≥0,y≥0"
   ],
   "metadata": {
    "collapsed": false
   }
  },
  {
   "cell_type": "code",
   "execution_count": 7,
   "metadata": {
    "collapsed": true,
    "ExecuteTime": {
     "end_time": "2025-04-02T05:56:33.260746500Z",
     "start_time": "2025-04-02T05:56:33.212636200Z"
    }
   },
   "outputs": [
    {
     "name": "stdout",
     "output_type": "stream",
     "text": [
      "Status: 1\n",
      "Optimal x: 0.0\n",
      "Optimal y: 4.0\n"
     ]
    },
    {
     "name": "stderr",
     "output_type": "stream",
     "text": [
      "D:\\anaconda3\\envs\\torchenv\\lib\\site-packages\\pulp\\pulp.py:1424: UserWarning: Spaces are not permitted in the name. Converted to '_'\n",
      "  warnings.warn(\"Spaces are not permitted in the name. Converted to '_'\")\n"
     ]
    }
   ],
   "source": [
    "from pulp import LpMaximize, LpProblem, LpVariable, lpSum\n",
    "\n",
    "# 创建线性规划问题\n",
    "prob = LpProblem(\"Integer Programming Example\", LpMaximize)\n",
    "\n",
    "# 定义决策变量 x 和 y，且它们必须是整数\n",
    "x = LpVariable('x', lowBound=0, cat='Integer')\n",
    "y = LpVariable('y', lowBound=0, cat='Integer')\n",
    "\n",
    "# 目标函数：2x + 3y\n",
    "prob += 2*x + 3*y\n",
    "\n",
    "# 约束条件\n",
    "prob += x + y <= 4\n",
    "prob += 2*x + y <= 5\n",
    "\n",
    "# 求解问题\n",
    "prob.solve()\n",
    "\n",
    "# 输出结果\n",
    "print(f\"Status: {prob.status}\")\n",
    "print(f\"Optimal x: {x.varValue}\")\n",
    "print(f\"Optimal y: {y.varValue}\")\n"
   ]
  },
  {
   "cell_type": "markdown",
   "source": [
    "# 2. 混合整数规划 (Mixed Integer Programming)\n",
    "示例 2.2：混合整数规划（使用 pulp）"
   ],
   "metadata": {
    "collapsed": false
   }
  },
  {
   "cell_type": "code",
   "execution_count": 8,
   "outputs": [
    {
     "name": "stdout",
     "output_type": "stream",
     "text": [
      "Status: 1\n",
      "Optimal x: 0.0\n",
      "Optimal y: 4.0\n"
     ]
    }
   ],
   "source": [
    "from pulp import LpMaximize, LpProblem, LpVariable, lpSum\n",
    "\n",
    "# 创建混合整数规划问题\n",
    "prob = LpProblem(\"Mixed Integer Programming Example\", LpMaximize)\n",
    "\n",
    "# 定义决策变量 x 为整数，y 为连续变量\n",
    "x = LpVariable('x', lowBound=0, cat='Integer')  # x 为整数\n",
    "y = LpVariable('y', lowBound=0)  # y 为连续变量\n",
    "\n",
    "# 目标函数：2x + 3y\n",
    "prob += 2*x + 3*y\n",
    "\n",
    "# 约束条件\n",
    "prob += x + y <= 4\n",
    "prob += 2*x + y <= 5\n",
    "\n",
    "# 求解问题\n",
    "prob.solve()\n",
    "\n",
    "# 输出结果\n",
    "print(f\"Status: {prob.status}\")\n",
    "print(f\"Optimal x: {x.varValue}\")\n",
    "print(f\"Optimal y: {y.varValue}\")\n"
   ],
   "metadata": {
    "collapsed": false,
    "ExecuteTime": {
     "end_time": "2025-04-02T05:56:33.307877200Z",
     "start_time": "2025-04-02T05:56:33.260746500Z"
    }
   }
  },
  {
   "cell_type": "markdown",
   "source": [],
   "metadata": {
    "collapsed": false
   }
  },
  {
   "cell_type": "markdown",
   "source": [
    "## 示例 2.2：混合整数规划（使用 cvxpy）\n",
    "cvxpy 是一个强大的优化建模库，能够处理包含整数、实数的复杂规划问题。"
   ],
   "metadata": {
    "collapsed": false
   }
  },
  {
   "cell_type": "code",
   "execution_count": 9,
   "outputs": [
    {
     "name": "stdout",
     "output_type": "stream",
     "text": [
      "Optimal x: 0.0\n",
      "Optimal y: 4.0\n"
     ]
    }
   ],
   "source": [
    "import cvxpy as cp\n",
    "\n",
    "# 定义变量 x 和 y，x 为整数，y 为连续变量\n",
    "x = cp.Variable(integer=True)\n",
    "y = cp.Variable()\n",
    "\n",
    "# 目标函数：2x + 3y\n",
    "objective = cp.Maximize(2 * x + 3 * y)\n",
    "\n",
    "# 约束条件\n",
    "constraints = [x + y <= 4, 2*x + y <= 5, x >= 0, y >= 0]\n",
    "\n",
    "# 定义优化问题\n",
    "prob = cp.Problem(objective, constraints)\n",
    "\n",
    "# 求解\n",
    "prob.solve()\n",
    "\n",
    "# 输出结果\n",
    "print(f\"Optimal x: {x.value}\")\n",
    "print(f\"Optimal y: {y.value}\")\n"
   ],
   "metadata": {
    "collapsed": false,
    "ExecuteTime": {
     "end_time": "2025-04-02T05:56:33.322141200Z",
     "start_time": "2025-04-02T05:56:33.305228600Z"
    }
   }
  }
 ],
 "metadata": {
  "kernelspec": {
   "display_name": "Python 3",
   "language": "python",
   "name": "python3"
  },
  "language_info": {
   "codemirror_mode": {
    "name": "ipython",
    "version": 2
   },
   "file_extension": ".py",
   "mimetype": "text/x-python",
   "name": "python",
   "nbconvert_exporter": "python",
   "pygments_lexer": "ipython2",
   "version": "2.7.6"
  }
 },
 "nbformat": 4,
 "nbformat_minor": 0
}
