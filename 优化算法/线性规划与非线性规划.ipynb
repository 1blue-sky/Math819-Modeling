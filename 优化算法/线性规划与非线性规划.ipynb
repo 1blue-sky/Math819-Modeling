{
 "cells": [
  {
   "cell_type": "markdown",
   "source": [
    "# 1. 线性规划 (Linear Programming)\n",
    "## 示例 1.1：线性规划 (使用 scipy.optimize.linprog）\n",
    "目标函数： 最大化：z=2x+3y\n",
    "约束：x+y≤4\n",
    "    2x+y≤5\n",
    "    x≥0,y≥0"
   ],
   "metadata": {
    "collapsed": false
   }
  },
  {
   "cell_type": "code",
   "execution_count": 5,
   "metadata": {
    "collapsed": true,
    "ExecuteTime": {
     "end_time": "2025-04-02T05:39:39.774989Z",
     "start_time": "2025-04-02T05:39:39.713804100Z"
    }
   },
   "outputs": [
    {
     "name": "stdout",
     "output_type": "stream",
     "text": [
      "Linear Programming Result using 'highs' method:\n",
      "        message: Optimization terminated successfully. (HiGHS Status 7: Optimal)\n",
      "        success: True\n",
      "         status: 0\n",
      "            fun: -12.0\n",
      "              x: [ 0.000e+00  4.000e+00]\n",
      "            nit: 2\n",
      "          lower:  residual: [ 0.000e+00  4.000e+00]\n",
      "                 marginals: [ 1.000e+00  0.000e+00]\n",
      "          upper:  residual: [       inf        inf]\n",
      "                 marginals: [ 0.000e+00  0.000e+00]\n",
      "          eqlin:  residual: []\n",
      "                 marginals: []\n",
      "        ineqlin:  residual: [ 0.000e+00  1.000e+00]\n",
      "                 marginals: [-3.000e+00 -0.000e+00]\n",
      " mip_node_count: 0\n",
      " mip_dual_bound: 0.0\n",
      "        mip_gap: 0.0\n"
     ]
    }
   ],
   "source": [
    "from scipy.optimize import linprog\n",
    "\n",
    "# 目标函数系数 (最大化问题)\n",
    "c = [-2, -3]  # 需要取负号，因为 linprog 是最小化\n",
    "\n",
    "# 约束矩阵 A 和 b\n",
    "A = [[1, 1], [2, 1]]\n",
    "b = [4, 5]\n",
    "\n",
    "# 变量边界 (x >= 0, y >= 0)\n",
    "x_bounds = (0, None)\n",
    "y_bounds = (0, None)\n",
    "\n",
    "# 调用 linprog 进行求解\n",
    "result = linprog(c, A_ub=A, b_ub=b, bounds=[x_bounds, y_bounds], method='highs')\n",
    "\n",
    "print(\"Linear Programming Result using 'highs' method:\")\n",
    "print(result)\n"
   ]
  },
  {
   "cell_type": "markdown",
   "source": [
    "## 示例 1.2：线性规划（单纯形法）"
   ],
   "metadata": {
    "collapsed": false
   }
  },
  {
   "cell_type": "code",
   "execution_count": 6,
   "outputs": [
    {
     "name": "stdout",
     "output_type": "stream",
     "text": [
      "Linear Programming Result using 'simplex' method:\n",
      " message: Optimization terminated successfully.\n",
      " success: True\n",
      "  status: 0\n",
      "     fun: -12.0\n",
      "       x: [ 0.000e+00  4.000e+00]\n",
      "     nit: 4\n"
     ]
    },
    {
     "name": "stderr",
     "output_type": "stream",
     "text": [
      "C:\\Users\\28099\\AppData\\Local\\Temp\\ipykernel_65888\\3274119408.py:1: DeprecationWarning: `method='simplex'` is deprecated and will be removed in SciPy 1.11.0. Please use one of the HiGHS solvers (e.g. `method='highs'`) in new code.\n",
      "  result = linprog(c, A_ub=A, b_ub=b, bounds=[x_bounds, y_bounds], method='simplex')\n"
     ]
    }
   ],
   "source": [
    "result = linprog(c, A_ub=A, b_ub=b, bounds=[x_bounds, y_bounds], method='simplex')\n",
    "\n",
    "print(\"Linear Programming Result using 'simplex' method:\")\n",
    "print(result)"
   ],
   "metadata": {
    "collapsed": false,
    "ExecuteTime": {
     "end_time": "2025-04-02T05:39:39.776061300Z",
     "start_time": "2025-04-02T05:39:39.733502600Z"
    }
   }
  },
  {
   "cell_type": "markdown",
   "source": [
    "## 示例 1.3：使用 cvxopt 库实现线性规划"
   ],
   "metadata": {
    "collapsed": false
   }
  },
  {
   "cell_type": "code",
   "execution_count": 7,
   "outputs": [
    {
     "name": "stdout",
     "output_type": "stream",
     "text": [
      "     pcost       dcost       gap    pres   dres   k/t\n",
      " 0: -9.0000e+00 -9.0000e+00  2e+00  2e-01  1e-16  1e+00\n",
      " 1: -9.0000e+00 -9.0000e+00  2e-02  2e-03  3e-16  1e-02\n",
      " 2: -9.0000e+00 -9.0000e+00  2e-04  2e-05  6e-17  1e-04\n",
      " 3: -9.0000e+00 -9.0000e+00  2e-06  2e-07  0e+00  1e-06\n",
      " 4: -9.0000e+00 -9.0000e+00  2e-08  2e-09  1e-16  1e-08\n",
      "Optimal solution found.\n",
      "Linear Programming Result using 'cvxopt':\n",
      "{'x': <2x1 matrix, tc='d'>, 'y': <0x1 matrix, tc='d'>, 's': <2x1 matrix, tc='d'>, 'z': <2x1 matrix, tc='d'>, 'status': 'optimal', 'gap': 2.0000000006108948e-08, 'relative gap': 2.2222222229009937e-09, 'primal objective': -9.000000000000002, 'dual objective': -9.0, 'primal infeasibility': 2.2086308029973104e-09, 'dual infeasibility': 1.2316818596028693e-16, 'primal slack': 1.0000000003054335e-08, 'dual slack': 0.9999999999999998, 'residual as primal infeasibility certificate': None, 'residual as dual infeasibility certificate': None, 'iterations': 4}\n"
     ]
    }
   ],
   "source": [
    "from cvxopt import matrix, solvers\n",
    "\n",
    "# 定义目标函数：c^T x，最大化\n",
    "c = matrix([-2.0, -3.0])\n",
    "\n",
    "# 约束条件：Ax <= b\n",
    "A = matrix([[1.0, 1.0], [2.0, 1.0]])\n",
    "b = matrix([4.0, 5.0])\n",
    "\n",
    "# 变量边界：x >= 0, y >= 0\n",
    "sol = solvers.lp(c, A, b)\n",
    "\n",
    "print(\"Linear Programming Result using 'cvxopt':\")\n",
    "print(sol)\n"
   ],
   "metadata": {
    "collapsed": false,
    "ExecuteTime": {
     "end_time": "2025-04-02T05:39:39.777514200Z",
     "start_time": "2025-04-02T05:39:39.748653100Z"
    }
   }
  },
  {
   "cell_type": "markdown",
   "source": [
    "# 2. 二次规划 (Quadratic Programming)\n",
    "## 示例 2.1：二次规划（使用 scipy.optimize.minimize）\n",
    "目标函数： 最小化：f(x) = x1^2^ + x2^2^\n",
    "约束： x1 + x2 ≥ 1\n"
   ],
   "metadata": {
    "collapsed": false
   }
  },
  {
   "cell_type": "code",
   "execution_count": 8,
   "outputs": [
    {
     "name": "stdout",
     "output_type": "stream",
     "text": [
      "Quadratic Programming Result:\n",
      " message: Optimization terminated successfully\n",
      " success: True\n",
      "  status: 0\n",
      "     fun: 0.25\n",
      "       x: [ 5.000e-01  5.000e-01]\n",
      "     nit: 1\n",
      "     jac: [ 5.000e-01  5.000e-01]\n",
      "    nfev: 3\n",
      "    njev: 1\n"
     ]
    }
   ],
   "source": [
    "from scipy.optimize import minimize\n",
    "import numpy as np\n",
    "\n",
    "# 目标函数（二次函数）\n",
    "def objective(x):\n",
    "    return 0.5 * np.dot(x, np.dot(np.array([[1, 0], [0, 1]]), x))  # x1^2 + x2^2\n",
    "\n",
    "# 约束条件（线性约束）\n",
    "constraints = [\n",
    "    {'type': 'ineq', 'fun': lambda x: x[0] + x[1] - 1},  # x1 + x2 >= 1\n",
    "]\n",
    "\n",
    "# 变量边界\n",
    "bounds = [(0, None), (0, None)]  # x1 >= 0, x2 >= 0\n",
    "\n",
    "# 初始猜测\n",
    "x0 = [0.5, 0.5]\n",
    "\n",
    "# 求解\n",
    "result = minimize(objective, x0, bounds=bounds, constraints=constraints)\n",
    "\n",
    "print(\"Quadratic Programming Result:\")\n",
    "print(result)\n"
   ],
   "metadata": {
    "collapsed": false,
    "ExecuteTime": {
     "end_time": "2025-04-02T05:41:45.550828900Z",
     "start_time": "2025-04-02T05:41:45.491283700Z"
    }
   }
  },
  {
   "cell_type": "markdown",
   "source": [
    "# 3. 非线性规划 (Nonlinear Programming)\n",
    "## 示例 3.1：非线性规划（使用 scipy.optimize.minimize）\n",
    "\n",
    "目标函数： 最小化：f(x) = x1^2^ + x2^2^\n",
    "约束： x1 + x2 ≥ 0\n",
    "x1^2^ + x2^2^ = 1\n"
   ],
   "metadata": {
    "collapsed": false
   }
  },
  {
   "cell_type": "code",
   "execution_count": 10,
   "outputs": [
    {
     "name": "stdout",
     "output_type": "stream",
     "text": [
      "Nonlinear Programming Result:\n",
      " message: Iteration limit reached\n",
      " success: False\n",
      "  status: 9\n",
      "     fun: 0.9998626355987323\n",
      "       x: [ 7.071e-01  7.071e-01]\n",
      "     nit: 100\n",
      "     jac: [ 1.414e+00  1.414e+00]\n",
      "    nfev: 638\n",
      "    njev: 99\n"
     ]
    }
   ],
   "source": [
    "# 目标函数（非线性函数）\n",
    "def objective(x):\n",
    "    return x[0]**2 + x[1]**2\n",
    "\n",
    "# 约束条件（非线性约束）\n",
    "constraints = [\n",
    "    {'type': 'eq', 'fun': lambda x: x[0]**2 + x[1]**2 - 1},  # x1^2 + x2^2 = 1\n",
    "    {'type': 'ineq', 'fun': lambda x: x[0] + x[1]},  # x1 + x2 >= 0\n",
    "]\n",
    "\n",
    "# 变量范围\n",
    "bounds = [(-1, 1), (-1, 1)]  # x1, x2 在 [-1, 1] 之间\n",
    "\n",
    "# 初始猜测\n",
    "x0 = [0.5, 0.5]\n",
    "\n",
    "# 求解\n",
    "result = minimize(objective, x0, bounds=bounds, constraints=constraints)\n",
    "\n",
    "print(\"Nonlinear Programming Result:\")\n",
    "print(result)\n"
   ],
   "metadata": {
    "collapsed": false,
    "ExecuteTime": {
     "end_time": "2025-04-02T05:46:23.603225600Z",
     "start_time": "2025-04-02T05:46:23.539087400Z"
    }
   }
  },
  {
   "cell_type": "markdown",
   "source": [
    "## 示例 3.2：非线性约束优化（使用不同的求解方法）\n",
    "我们还可以使用 trust-constr 或 SLSQP 方法来求解复杂的非线性约束优化问题。"
   ],
   "metadata": {
    "collapsed": false
   }
  },
  {
   "cell_type": "code",
   "execution_count": 11,
   "outputs": [
    {
     "name": "stdout",
     "output_type": "stream",
     "text": [
      "Nonlinear Programming Result using 'SLSQP':\n",
      " message: Iteration limit reached\n",
      " success: False\n",
      "  status: 9\n",
      "     fun: 0.9998626355987323\n",
      "       x: [ 7.071e-01  7.071e-01]\n",
      "     nit: 100\n",
      "     jac: [ 1.414e+00  1.414e+00]\n",
      "    nfev: 638\n",
      "    njev: 99\n"
     ]
    }
   ],
   "source": [
    "# 使用 SLSQP 方法求解\n",
    "result = minimize(objective, x0, bounds=bounds, constraints=constraints, method='SLSQP')\n",
    "\n",
    "print(\"Nonlinear Programming Result using 'SLSQP':\")\n",
    "print(result)\n"
   ],
   "metadata": {
    "collapsed": false,
    "ExecuteTime": {
     "end_time": "2025-04-02T05:47:06.006523500Z",
     "start_time": "2025-04-02T05:47:05.948578700Z"
    }
   }
  }
 ],
 "metadata": {
  "kernelspec": {
   "display_name": "Python 3",
   "language": "python",
   "name": "python3"
  },
  "language_info": {
   "codemirror_mode": {
    "name": "ipython",
    "version": 2
   },
   "file_extension": ".py",
   "mimetype": "text/x-python",
   "name": "python",
   "nbconvert_exporter": "python",
   "pygments_lexer": "ipython2",
   "version": "2.7.6"
  }
 },
 "nbformat": 4,
 "nbformat_minor": 0
}
